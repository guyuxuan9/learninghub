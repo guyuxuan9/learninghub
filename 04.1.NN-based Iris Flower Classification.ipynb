{
 "cells": [
  {
   "cell_type": "markdown",
   "metadata": {},
   "source": [
    "# Neural-Network-based Iris Flower Classification\n",
    "Code by [karbon](https://github.com/csy-tvgo)\n",
    "\n",
    "Reference:  \n",
    "1.[Keras Documentation](https://keras.io/)  \n",
    "2.[Iris Flower Dataset](https://archive.ics.uci.edu/ml/datasets/Iris/)\n",
    "\n",
    "## 0 Dataset Description\n",
    "Description Source: [https://archive.ics.uci.edu/ml/datasets/Iris/](https://archive.ics.uci.edu/ml/datasets/Iris/)  \n",
    ">**Data Set Information:**  \n",
    "This is perhaps the best known database to be found in the pattern recognition literature. Fisher's paper is a classic in the field and is referenced frequently to this day. (See Duda & Hart, for example.) The data set contains 3 classes of 50 instances each, where each class refers to a type of iris plant. One class is linearly separable from the other 2; the latter are NOT linearly separable from each other.  \n",
    "Predicted attribute: class of iris plant.  \n",
    "This is an exceedingly simple domain.  \n",
    "**Attribute Information:**  \n",
    "column 1: sepal length in cm  \n",
    "column 2: sepal width in cm  \n",
    "column 3: petal length in cm  \n",
    "column 4: petal width in cm  \n",
    "column 5: class:  \n",
    "-- Iris Setosa  \n",
    "-- Iris Versicolour  \n",
    "-- Iris Virginica  "
   ]
  },
  {
   "cell_type": "markdown",
   "metadata": {},
   "source": [
    "## 1 Observe the data  \n",
    "Load dataset from csv file.  "
   ]
  },
  {
   "cell_type": "code",
   "execution_count": 1,
   "metadata": {},
   "outputs": [],
   "source": [
    "%matplotlib inline\n",
    "import matplotlib.pyplot as plt\n",
    "import csv\n",
    "import numpy as np\n",
    "import random\n",
    "import tensorflow as tf\n",
    "from tensorflow import keras\n",
    "from tensorflow.keras import layers\n",
    "\n",
    "# Declare list for storing dataset\n",
    "sepal_length = np.array([])\n",
    "sepal_width = np.array([])\n",
    "petal_length = np.array([])\n",
    "petal_width = np.array([])\n",
    "iris_class = np.array([])\n",
    "\n",
    "# Load dataset from csv file\n",
    "reader = csv.reader(open('C:\\\\Users\\\\admin\\代码\\机器学习\\\\irisDataset.csv','r'))\n",
    "for row in reader:\n",
    "    sepal_length = np.append(sepal_length, float(row[0]))\n",
    "    sepal_width = np.append(sepal_width, float(row[1]))\n",
    "    petal_length = np.append(petal_length, float(row[2]))\n",
    "    petal_width = np.append(petal_width, float(row[3]))\n",
    "    iris_class = np.append(iris_class, row[4])"
   ]
  },
  {
   "cell_type": "markdown",
   "metadata": {},
   "source": [
    "Observe the format of data. (Take 10 examples randomly)"
   ]
  },
  {
   "cell_type": "code",
   "execution_count": 2,
   "metadata": {},
   "outputs": [
    {
     "name": "stdout",
     "output_type": "stream",
     "text": [
      "ID \t SEPAL_LENGTH \t SEPAL_WIDTH \t PETAL_LENGTH \t PETAL_WIDTH \t|| CLASS\n",
      "65 \t 6.7 \t\t 3.1 \t\t 4.4 \t\t 1.4 \t\t|| versicolor\n",
      "72 \t 6.3 \t\t 2.5 \t\t 4.9 \t\t 1.5 \t\t|| versicolor\n",
      "74 \t 6.4 \t\t 2.9 \t\t 4.3 \t\t 1.3 \t\t|| versicolor\n",
      "140 \t 6.7 \t\t 3.1 \t\t 5.6 \t\t 2.4 \t\t|| virginica\n",
      "12 \t 4.8 \t\t 3.0 \t\t 1.4 \t\t 0.1 \t\t|| setosa\n",
      "111 \t 6.4 \t\t 2.7 \t\t 5.3 \t\t 1.9 \t\t|| virginica\n",
      "80 \t 5.5 \t\t 2.4 \t\t 3.8 \t\t 1.1 \t\t|| versicolor\n",
      "57 \t 4.9 \t\t 2.4 \t\t 3.3 \t\t 1.0 \t\t|| versicolor\n",
      "90 \t 5.5 \t\t 2.6 \t\t 4.4 \t\t 1.2 \t\t|| versicolor\n",
      "60 \t 5.0 \t\t 2.0 \t\t 3.5 \t\t 1.0 \t\t|| versicolor\n"
     ]
    }
   ],
   "source": [
    "h =set()      # 创建一个无序不重复的数据集\n",
    "while(len(h)<10):\n",
    "    h.add(random.randint(0, 149))         # set 数据集中 .add() 方法\n",
    "    \n",
    "print(\"ID \\t SEPAL_LENGTH \\t SEPAL_WIDTH \\t PETAL_LENGTH \\t PETAL_WIDTH \\t|| CLASS\")\n",
    "for i in h:\n",
    "    print(\"%d \\t %.1f \\t\\t %.1f \\t\\t %.1f \\t\\t %.1f \\t\\t|| %s\" \n",
    "          % (i, sepal_length[i], sepal_width[i], petal_length[i], petal_width[i], iris_class[i]))"
   ]
  },
  {
   "cell_type": "markdown",
   "metadata": {},
   "source": [
    "Plot dataset."
   ]
  },
  {
   "cell_type": "code",
   "execution_count": 3,
   "metadata": {},
   "outputs": [
    {
     "data": {
      "image/png": "[encoded data removed]",
      "text/plain": [
       "<Figure size 864x360 with 2 Axes>"
      ]
     },
     "metadata": {
      "needs_background": "light"
     },
     "output_type": "display_data"
    }
   ],
   "source": [
    "plt.figure(figsize=(12,5))\n",
    "\n",
    "plt.subplot(1,2,1)\n",
    "plt.scatter(sepal_length[iris_class=='setosa'], sepal_width[iris_class=='setosa'])\n",
    "plt.scatter(sepal_length[iris_class=='versicolor'], sepal_width[iris_class=='versicolor'])\n",
    "plt.scatter(sepal_length[iris_class=='virginica'], sepal_width[iris_class=='virginica'])\n",
    "plt.legend((\"setosa\",\"versicolor\",\"virginica\"))\n",
    "plt.xlabel('sepal_length')\n",
    "plt.ylabel('sepal_width')\n",
    "\n",
    "plt.subplot(1,2,2)\n",
    "plt.scatter(petal_length[iris_class=='setosa'], petal_width[iris_class=='setosa'])\n",
    "plt.scatter(petal_length[iris_class=='versicolor'], petal_width[iris_class=='versicolor'])\n",
    "plt.scatter(petal_length[iris_class=='virginica'], petal_width[iris_class=='virginica'])\n",
    "plt.legend((\"setosa\",\"versicolor\",\"virginica\"))\n",
    "plt.xlabel('petal_length')\n",
    "plt.ylabel('petal_width')\n",
    "plt.show()\n"
   ]
  },
  {
   "cell_type": "markdown",
   "metadata": {},
   "source": [
    "## 2 Preprocess dataset and Divide dataset  \n",
    "Through observing the figure above, we can find that it's easier to classify iris flowers by `petal_width` and `petal_length`. So, we can simplify the problem by ignoring `sepal_width` and `sepal_length`. (This kind of operation may decrease accuracy)"
   ]
  },
  {
   "cell_type": "code",
   "execution_count": 4,
   "metadata": {},
   "outputs": [],
   "source": [
    "dataset_x = np.array((petal_length, petal_width)).T\n",
    "# 原来合并出来的是(2*150)的矩阵  .T 将其转置成(150*2)的矩阵 将原矩阵的行列互换\n",
    "dataset_y = np.zeros(iris_class.shape, dtype=int)\n",
    "dataset_y[iris_class == 'setosa'] = 0\n",
    "dataset_y[iris_class == 'versicolor'] = 1\n",
    "dataset_y[iris_class == 'virginica'] = 2"
   ]
  },
  {
   "cell_type": "markdown",
   "metadata": {},
   "source": [
    "As an example, we define $80\\%$ of the raw dataset is trainset and the other $20\\%$ is testset."
   ]
  },
  {
   "cell_type": "code",
   "execution_count": 5,
   "metadata": {},
   "outputs": [],
   "source": [
    "num = len(iris_class)\n",
    "splitLine = int(0.8*num)\n",
    "\n",
    "# generate a random list to select data randomly\n",
    "index = [i for i in range(0, num)]\n",
    "random.shuffle(index)\n",
    "\n",
    "# divide into trainset and testset\n",
    "train_x = dataset_x[index[0:splitLine]]\n",
    "train_y = dataset_y[index[0:splitLine]] \n",
    "test_x = dataset_x[index[splitLine:num]]\n",
    "test_y = dataset_y[index[splitLine:num]]"
   ]
  },
  {
   "cell_type": "markdown",
   "metadata": {},
   "source": [
    "Encode the classes into one-hot encoding.  \n",
    "For example,  \n",
    "$ 0\\rightarrow [1,0,0] $  \n",
    "$ 1\\rightarrow [0,1,0] $  \n",
    "$ 2\\rightarrow [0,0,1] $"
   ]
  },
  {
   "cell_type": "code",
   "execution_count": 6,
   "metadata": {},
   "outputs": [],
   "source": [
    "# One-Hot Encoding\n",
    "train_y_onehot = keras.utils.to_categorical(train_y, 3)\n",
    "test_y_onehot = keras.utils.to_categorical(test_y, 3)"
   ]
  },
  {
   "cell_type": "markdown",
   "metadata": {},
   "source": [
    "Let's observe the trainset and testset in different marker."
   ]
  },
  {
   "cell_type": "code",
   "execution_count": 7,
   "metadata": {},
   "outputs": [
    {
     "data": {
      "image/png": "[encoded data removed]",
      "text/plain": [
       "<Figure size 576x432 with 1 Axes>"
      ]
     },
     "metadata": {
      "needs_background": "light"
     },
     "output_type": "display_data"
    }
   ],
   "source": [
    "plt.figure(figsize=(8,6))\n",
    "plt.scatter(train_x[train_y==0, 0], train_x[train_y==0, 1], marker='+', color='red')  \n",
    "# train_x [train_y==0,1] 在train_x的第1列寻找train_y中标签为0的值 i.e 找setosa对应的widths\n",
    "plt.scatter(train_x[train_y==1, 0], train_x[train_y==1, 1], marker='+', color='green')\n",
    "plt.scatter(train_x[train_y==2, 0], train_x[train_y==2, 1], marker='+', color='blue')\n",
    "plt.scatter(test_x[test_y==0, 0], test_x[test_y==0, 1], marker='v', color='red')\n",
    "plt.scatter(test_x[test_y==1, 0], test_x[test_y==1, 1], marker='v', color='green')\n",
    "plt.scatter(test_x[test_y==2, 0], test_x[test_y==2, 1], marker='v', color='blue')\n",
    "plt.legend((\"train_setosa\",\"train_versicolor\",\"train_virginica\",\"test_setosa\",\"test_versicolor\",\"test_virginica\"))\n",
    "plt.xlabel('petal_length')\n",
    "plt.ylabel('petal_width')\n",
    "plt.show()"
   ]
  },
  {
   "cell_type": "markdown",
   "metadata": {},
   "source": [
    "# 3 Describe your neural network  \n",
    "Then, let's create our nerual network.  \n",
    "As an example, we describe a simple network as below. (The details of how to describe layers of network can find [here](https://tensorflow.google.cn/api_docs/python/tf/keras/layers/Dense?hl=zh-CN))"
   ]
  },
  {
   "cell_type": "code",
   "execution_count": 8,
   "metadata": {},
   "outputs": [
    {
     "name": "stdout",
     "output_type": "stream",
     "text": [
      "WARNING:tensorflow:From C:\\Users\\admin\\Anaconda3\\lib\\site-packages\\tensorflow_core\\python\\ops\\resource_variable_ops.py:1630: calling BaseResourceVariable.__init__ (from tensorflow.python.ops.resource_variable_ops) with constraint is deprecated and will be removed in a future version.\n",
      "Instructions for updating:\n",
      "If using Keras pass *_constraint arguments to layers.\n"
     ]
    }
   ],
   "source": [
    "# describe the model\n",
    "model = keras.Sequential([\n",
    "    layers.Dense(units=64, activation='relu', input_shape=(2,)),  # 2个input分别为 petal_length 和 petal_width\n",
    "    layers.Dense(units=64, activation='relu'),\n",
    "    layers.Dense(units=3, activation='softmax')\n",
    "])"
   ]
  },
  {
   "cell_type": "markdown",
   "metadata": {},
   "source": [
    "We can use `.summary` to print the brief description of the model."
   ]
  },
  {
   "cell_type": "code",
   "execution_count": 9,
   "metadata": {},
   "outputs": [
    {
     "name": "stdout",
     "output_type": "stream",
     "text": [
      "Model: \"sequential\"\n",
      "_________________________________________________________________\n",
      "Layer (type)                 Output Shape              Param #   \n",
      "=================================================================\n",
      "dense (Dense)                (None, 64)                192       \n",
      "_________________________________________________________________\n",
      "dense_1 (Dense)              (None, 64)                4160      \n",
      "_________________________________________________________________\n",
      "dense_2 (Dense)              (None, 3)                 195       \n",
      "=================================================================\n",
      "Total params: 4,547\n",
      "Trainable params: 4,547\n",
      "Non-trainable params: 0\n",
      "_________________________________________________________________\n"
     ]
    }
   ],
   "source": [
    "model.summary()"
   ]
  },
  {
   "cell_type": "markdown",
   "metadata": {},
   "source": [
    "We can use **Mean Square Error (MSE)** as `loss` function, and use **Stochastic Gradient Descent (SGD)** as the process we train the model (i.e. \"`optimizer`\").  \n",
    "(PS: MSE is not so suitable for classification)"
   ]
  },
  {
   "cell_type": "code",
   "execution_count": 10,
   "metadata": {},
   "outputs": [],
   "source": [
    "model.compile(loss='mse', optimizer='sgd')"
   ]
  },
  {
   "cell_type": "markdown",
   "metadata": {},
   "source": [
    "# 4 Training  \n",
    "We can use `.fit` to automatically train the model."
   ]
  },
  {
   "cell_type": "code",
   "execution_count": 11,
   "metadata": {},
   "outputs": [
    {
     "name": "stdout",
     "output_type": "stream",
     "text": [
      "Train on 120 samples\n",
      "Epoch 1/100\n",
      "120/120 [==============================] - 0s 2ms/sample - loss: 0.2257\n",
      "Epoch 2/100\n",
      "120/120 [==============================] - 0s 382us/sample - loss: 0.2078\n",
      "Epoch 3/100\n",
      "120/120 [==============================] - 0s 366us/sample - loss: 0.2008\n",
      "Epoch 4/100\n",
      "120/120 [==============================] - 0s 407us/sample - loss: 0.1973\n",
      "Epoch 5/100\n",
      "120/120 [==============================] - 0s 341us/sample - loss: 0.1953\n",
      "Epoch 6/100\n",
      "120/120 [==============================] - 0s 407us/sample - loss: 0.1937\n",
      "Epoch 7/100\n",
      "120/120 [==============================] - 0s 357us/sample - loss: 0.1918\n",
      "Epoch 8/100\n",
      "120/120 [==============================] - 0s 449us/sample - loss: 0.1903\n",
      "Epoch 9/100\n",
      "120/120 [==============================] - 0s 357us/sample - loss: 0.1887\n",
      "Epoch 10/100\n",
      "120/120 [==============================] - 0s 399us/sample - loss: 0.1875\n",
      "Epoch 11/100\n",
      "120/120 [==============================] - 0s 382us/sample - loss: 0.1858\n",
      "Epoch 12/100\n",
      "120/120 [==============================] - 0s 449us/sample - loss: 0.1847\n",
      "Epoch 13/100\n",
      "120/120 [==============================] - 0s 399us/sample - loss: 0.1818\n",
      "Epoch 14/100\n",
      "120/120 [==============================] - 0s 374us/sample - loss: 0.1805\n",
      "Epoch 15/100\n",
      "120/120 [==============================] - 0s 399us/sample - loss: 0.1782\n",
      "Epoch 16/100\n",
      "120/120 [==============================] - 0s 549us/sample - loss: 0.1769\n",
      "Epoch 17/100\n",
      "120/120 [==============================] - 0s 524us/sample - loss: 0.1747\n",
      "Epoch 18/100\n",
      "120/120 [==============================] - 0s 416us/sample - loss: 0.1732\n",
      "Epoch 19/100\n",
      "120/120 [==============================] - 0s 349us/sample - loss: 0.1719\n",
      "Epoch 20/100\n",
      "120/120 [==============================] - 0s 474us/sample - loss: 0.1702\n",
      "Epoch 21/100\n",
      "120/120 [==============================] - 0s 349us/sample - loss: 0.1674\n",
      "Epoch 22/100\n",
      "120/120 [==============================] - 0s 424us/sample - loss: 0.1658\n",
      "Epoch 23/100\n",
      "120/120 [==============================] - 0s 349us/sample - loss: 0.1647\n",
      "Epoch 24/100\n",
      "120/120 [==============================] - 0s 374us/sample - loss: 0.1624\n",
      "Epoch 25/100\n",
      "120/120 [==============================] - 0s 632us/sample - loss: 0.1605\n",
      "Epoch 26/100\n",
      "120/120 [==============================] - 0s 391us/sample - loss: 0.1596\n",
      "Epoch 27/100\n",
      "120/120 [==============================] - 0s 432us/sample - loss: 0.1577\n",
      "Epoch 28/100\n",
      "120/120 [==============================] - 0s 349us/sample - loss: 0.1559\n",
      "Epoch 29/100\n",
      "120/120 [==============================] - 0s 490us/sample - loss: 0.1541\n",
      "Epoch 30/100\n",
      "120/120 [==============================] - 0s 382us/sample - loss: 0.1520\n",
      "Epoch 31/100\n",
      "120/120 [==============================] - 0s 598us/sample - loss: 0.1507\n",
      "Epoch 32/100\n",
      "120/120 [==============================] - 0s 407us/sample - loss: 0.1488\n",
      "Epoch 33/100\n",
      "120/120 [==============================] - 0s 374us/sample - loss: 0.1465\n",
      "Epoch 34/100\n",
      "120/120 [==============================] - 0s 515us/sample - loss: 0.1457\n",
      "Epoch 35/100\n",
      "120/120 [==============================] - 0s 341us/sample - loss: 0.1436\n",
      "Epoch 36/100\n",
      "120/120 [==============================] - 0s 557us/sample - loss: 0.1421\n",
      "Epoch 37/100\n",
      "120/120 [==============================] - 0s 432us/sample - loss: 0.1408\n",
      "Epoch 38/100\n",
      "120/120 [==============================] - 0s 374us/sample - loss: 0.1392\n",
      "Epoch 39/100\n",
      "120/120 [==============================] - 0s 424us/sample - loss: 0.1367\n",
      "Epoch 40/100\n",
      "120/120 [==============================] - 0s 399us/sample - loss: 0.1358\n",
      "Epoch 41/100\n",
      "120/120 [==============================] - 0s 524us/sample - loss: 0.1341\n",
      "Epoch 42/100\n",
      "120/120 [==============================] - 0s 407us/sample - loss: 0.1323\n",
      "Epoch 43/100\n",
      "120/120 [==============================] - 0s 391us/sample - loss: 0.1306\n",
      "Epoch 44/100\n",
      "120/120 [==============================] - 0s 382us/sample - loss: 0.1292\n",
      "Epoch 45/100\n",
      "120/120 [==============================] - 0s 424us/sample - loss: 0.1274\n",
      "Epoch 46/100\n",
      "120/120 [==============================] - 0s 382us/sample - loss: 0.1256\n",
      "Epoch 47/100\n",
      "120/120 [==============================] - 0s 399us/sample - loss: 0.1248\n",
      "Epoch 48/100\n",
      "120/120 [==============================] - 0s 432us/sample - loss: 0.1229\n",
      "Epoch 49/100\n",
      "120/120 [==============================] - 0s 391us/sample - loss: 0.1206\n",
      "Epoch 50/100\n",
      "120/120 [==============================] - 0s 632us/sample - loss: 0.1206\n",
      "Epoch 51/100\n",
      "120/120 [==============================] - ETA: 0s - loss: 0.122 - 0s 366us/sample - loss: 0.1186\n",
      "Epoch 52/100\n",
      "120/120 [==============================] - 0s 416us/sample - loss: 0.1167\n",
      "Epoch 53/100\n",
      "120/120 [==============================] - 0s 416us/sample - loss: 0.1156\n",
      "Epoch 54/100\n",
      "120/120 [==============================] - 0s 366us/sample - loss: 0.1151\n",
      "Epoch 55/100\n",
      "120/120 [==============================] - 0s 407us/sample - loss: 0.1128\n",
      "Epoch 56/100\n",
      "120/120 [==============================] - 0s 357us/sample - loss: 0.1123\n",
      "Epoch 57/100\n",
      "120/120 [==============================] - 0s 416us/sample - loss: 0.1100\n",
      "Epoch 58/100\n",
      "120/120 [==============================] - 0s 449us/sample - loss: 0.1087\n",
      "Epoch 59/100\n",
      "120/120 [==============================] - 0s 424us/sample - loss: 0.1089\n",
      "Epoch 60/100\n",
      "120/120 [==============================] - 0s 524us/sample - loss: 0.1062\n",
      "Epoch 61/100\n",
      "120/120 [==============================] - 0s 457us/sample - loss: 0.1057\n",
      "Epoch 62/100\n",
      "120/120 [==============================] - 0s 416us/sample - loss: 0.1043\n",
      "Epoch 63/100\n",
      "120/120 [==============================] - 0s 366us/sample - loss: 0.1030\n",
      "Epoch 64/100\n",
      "120/120 [==============================] - 0s 515us/sample - loss: 0.1006\n",
      "Epoch 65/100\n",
      "120/120 [==============================] - 0s 440us/sample - loss: 0.1003\n",
      "Epoch 66/100\n",
      "120/120 [==============================] - 0s 357us/sample - loss: 0.0994\n",
      "Epoch 67/100\n",
      "120/120 [==============================] - 0s 399us/sample - loss: 0.0990\n",
      "Epoch 68/100\n",
      "120/120 [==============================] - 0s 524us/sample - loss: 0.0972\n",
      "Epoch 69/100\n",
      "120/120 [==============================] - 0s 399us/sample - loss: 0.0964\n",
      "Epoch 70/100\n",
      "120/120 [==============================] - 0s 598us/sample - loss: 0.0941\n",
      "Epoch 71/100\n",
      "120/120 [==============================] - 0s 457us/sample - loss: 0.0938\n",
      "Epoch 72/100\n",
      "120/120 [==============================] - 0s 349us/sample - loss: 0.0928\n",
      "Epoch 73/100\n",
      "120/120 [==============================] - 0s 665us/sample - loss: 0.0914\n",
      "Epoch 74/100\n",
      "120/120 [==============================] - 0s 615us/sample - loss: 0.0909\n",
      "Epoch 75/100\n",
      "120/120 [==============================] - 0s 391us/sample - loss: 0.0893\n",
      "Epoch 76/100\n",
      "120/120 [==============================] - 0s 440us/sample - loss: 0.0879\n",
      "Epoch 77/100\n",
      "120/120 [==============================] - 0s 407us/sample - loss: 0.0886\n",
      "Epoch 78/100\n",
      "120/120 [==============================] - 0s 432us/sample - loss: 0.0866\n",
      "Epoch 79/100\n",
      "120/120 [==============================] - 0s 399us/sample - loss: 0.0866\n",
      "Epoch 80/100\n",
      "120/120 [==============================] - 0s 324us/sample - loss: 0.0844\n",
      "Epoch 81/100\n",
      "120/120 [==============================] - 0s 357us/sample - loss: 0.0831\n",
      "Epoch 82/100\n",
      "120/120 [==============================] - 0s 316us/sample - loss: 0.0836\n",
      "Epoch 83/100\n",
      "120/120 [==============================] - 0s 399us/sample - loss: 0.0825\n",
      "Epoch 84/100\n",
      "120/120 [==============================] - 0s 291us/sample - loss: 0.0802\n",
      "Epoch 85/100\n",
      "120/120 [==============================] - 0s 340us/sample - loss: 0.0808\n",
      "Epoch 86/100\n",
      "120/120 [==============================] - 0s 299us/sample - loss: 0.0792\n",
      "Epoch 87/100\n",
      "120/120 [==============================] - 0s 407us/sample - loss: 0.0796\n",
      "Epoch 88/100\n",
      "120/120 [==============================] - 0s 324us/sample - loss: 0.0775\n",
      "Epoch 89/100\n",
      "120/120 [==============================] - 0s 299us/sample - loss: 0.0772\n",
      "Epoch 90/100\n",
      "120/120 [==============================] - 0s 366us/sample - loss: 0.0751\n",
      "Epoch 91/100\n",
      "120/120 [==============================] - 0s 283us/sample - loss: 0.0754\n",
      "Epoch 92/100\n",
      "120/120 [==============================] - 0s 308us/sample - loss: 0.0754\n",
      "Epoch 93/100\n",
      "120/120 [==============================] - 0s 299us/sample - loss: 0.0730\n",
      "Epoch 94/100\n"
     ]
    },
    {
     "name": "stdout",
     "output_type": "stream",
     "text": [
      "120/120 [==============================] - 0s 308us/sample - loss: 0.0728\n",
      "Epoch 95/100\n",
      "120/120 [==============================] - 0s 308us/sample - loss: 0.0730\n",
      "Epoch 96/100\n",
      "120/120 [==============================] - 0s 282us/sample - loss: 0.0709\n",
      "Epoch 97/100\n",
      "120/120 [==============================] - 0s 316us/sample - loss: 0.0713\n",
      "Epoch 98/100\n",
      "120/120 [==============================] - 0s 316us/sample - loss: 0.0699\n",
      "Epoch 99/100\n",
      "120/120 [==============================] - 0s 291us/sample - loss: 0.0670\n",
      "Epoch 100/100\n",
      "120/120 [==============================] - 0s 299us/sample - loss: 0.0687\n"
     ]
    },
    {
     "data": {
      "text/plain": [
       "<tensorflow.python.keras.callbacks.History at 0x16827b73148>"
      ]
     },
     "execution_count": 11,
     "metadata": {},
     "output_type": "execute_result"
    }
   ],
   "source": [
    "model.fit(train_x, train_y_onehot, batch_size=4, epochs=100, verbose=1)  # verbose = 1(默认): 打印进度条   verbose=0: 不打印进度条"
   ]
  },
  {
   "cell_type": "markdown",
   "metadata": {},
   "source": [
    "# 5 Evaluation of the trained model  \n",
    "We can use `.evaluate` to compute **loss** on testset."
   ]
  },
  {
   "cell_type": "code",
   "execution_count": 12,
   "metadata": {},
   "outputs": [
    {
     "name": "stdout",
     "output_type": "stream",
     "text": [
      "30/30 [==============================] - 0s 2ms/sample - loss: 0.0829\n",
      "test cost: 0.08287645876407623\n"
     ]
    }
   ],
   "source": [
    "cost = model.evaluate(test_x, test_y_onehot)\n",
    "print('test cost:', cost)"
   ]
  },
  {
   "cell_type": "markdown",
   "metadata": {},
   "source": [
    "Then, we use the trained model to compute **scores** of testset."
   ]
  },
  {
   "cell_type": "code",
   "execution_count": 13,
   "metadata": {},
   "outputs": [
    {
     "name": "stdout",
     "output_type": "stream",
     "text": [
      "[[0.01473163 0.5292347  0.45603374]\n",
      " [0.8181273  0.15756465 0.02430802]\n",
      " [0.00660607 0.26332924 0.73006475]\n",
      " [0.08035083 0.5695213  0.3501279 ]\n",
      " [0.00632487 0.44128713 0.552388  ]\n",
      " [0.68018436 0.26148954 0.05832614]\n",
      " [0.22839998 0.56740737 0.20419264]\n",
      " [0.22839998 0.56740737 0.20419264]\n",
      " [0.83767235 0.14583267 0.01649499]\n",
      " [0.03917255 0.5018703  0.45895717]\n",
      " [0.02785603 0.6242829  0.34786105]\n",
      " [0.03917255 0.5018703  0.45895717]\n",
      " [0.8370972  0.14547785 0.01742489]\n",
      " [0.20740303 0.59061337 0.20198365]\n",
      " [0.00276289 0.34843692 0.64880013]\n",
      " [0.00090558 0.212086   0.78700846]\n",
      " [0.82974607 0.15043499 0.01981903]\n",
      " [0.00209529 0.29036468 0.70754   ]\n",
      " [0.8126831  0.16334394 0.02397301]\n",
      " [0.10668386 0.59854335 0.2947728 ]\n",
      " [0.773046   0.19513223 0.03182177]\n",
      " [0.03917255 0.5018703  0.45895717]\n",
      " [0.82831204 0.15265492 0.01903306]\n",
      " [0.82974607 0.15043499 0.01981903]\n",
      " [0.01393774 0.354675   0.63138723]\n",
      " [0.83767235 0.14583267 0.01649499]\n",
      " [0.7630403  0.20482685 0.03213283]\n",
      " [0.00222543 0.15028004 0.84749454]\n",
      " [0.08035083 0.5695213  0.3501279 ]\n",
      " [0.07227448 0.58471155 0.34301397]]\n"
     ]
    }
   ],
   "source": [
    "scores = model.predict(test_x)\n",
    "print(scores)"
   ]
  },
  {
   "cell_type": "markdown",
   "metadata": {},
   "source": [
    "Postprocessing."
   ]
  },
  {
   "cell_type": "code",
   "execution_count": 14,
   "metadata": {},
   "outputs": [
    {
     "name": "stdout",
     "output_type": "stream",
     "text": [
      "[1. 0. 2. 1. 2. 0. 1. 1. 0. 1. 1. 1. 0. 1. 2. 2. 0. 2. 0. 1. 0. 1. 0. 0.\n",
      " 2. 0. 0. 2. 1. 1.]\n"
     ]
    }
   ],
   "source": [
    "results = np.array([])\n",
    "for i in scores:\n",
    "    results = np.append(results, np.argmax(i))   # np.argmax() 返回最大值的index\n",
    "print(results)"
   ]
  },
  {
   "cell_type": "markdown",
   "metadata": {},
   "source": [
    "Visualize our model of prediction."
   ]
  },
  {
   "cell_type": "code",
   "execution_count": 15,
   "metadata": {},
   "outputs": [
    {
     "name": "stdout",
     "output_type": "stream",
     "text": [
      "[[1.3  0.1 ]\n",
      " [1.35 0.1 ]\n",
      " [1.4  0.1 ]\n",
      " ...\n",
      " [6.75 2.25]\n",
      " [6.8  2.25]\n",
      " [6.85 2.25]]\n"
     ]
    },
    {
     "data": {
      "image/png": "[encoded data removed]",
      "text/plain": [
       "<Figure size 1080x360 with 3 Axes>"
      ]
     },
     "metadata": {
      "needs_background": "light"
     },
     "output_type": "display_data"
    }
   ],
   "source": [
    "plt.figure(figsize=(15,5))\n",
    "\n",
    "# draw ground truth\n",
    "plt.subplot(1,3,1)\n",
    "plt.scatter(test_x[test_y==0, 0], test_x[test_y==0, 1], marker='v', color='red')\n",
    "plt.scatter(test_x[test_y==1, 0], test_x[test_y==1, 1], marker='v', color='green')\n",
    "plt.scatter(test_x[test_y==2, 0], test_x[test_y==2, 1], marker='v', color='blue')\n",
    "plt.legend((\"setosa\",\"versicolor\",\"virginica\"))\n",
    "plt.xlabel('petal_length')\n",
    "plt.ylabel('petal_width')\n",
    "plt.title('Ground Truth of Testset')\n",
    "\n",
    "# draw prediction\n",
    "plt.subplot(1,3,2)\n",
    "plt.scatter(test_x[results==0, 0], test_x[results==0, 1], color='red')\n",
    "plt.scatter(test_x[results==1, 0], test_x[results==1, 1], color='green')\n",
    "plt.scatter(test_x[results==2, 0], test_x[results==2, 1], color='blue')\n",
    "plt.legend((\"setosa\",\"versicolor\",\"virginica\"))\n",
    "plt.xlabel('petal_length')\n",
    "plt.ylabel('petal_width')\n",
    "plt.title('Prediction of Testset')\n",
    "\n",
    "# draw classification areas\n",
    "x = np.arange(min(test_x[:,0]), max(test_x[:,0]), 0.05)\n",
    "y = np.arange(min(test_x[:,1]), max(test_x[:,1]), 0.05)\n",
    "X,Y = np.meshgrid(x,y)\n",
    "grid = np.array((X.flatten(), Y.flatten())).T\n",
    "scores_1 = model.predict(grid)\n",
    "decisions = np.array([])\n",
    "for i in scores_1:\n",
    "    decisions = np.append(decisions, np.argmax(i))\n",
    "print(grid)\n",
    "plt.subplot(1,3,3)\n",
    "plt.scatter(grid[decisions==0, 0], grid[decisions==0, 1], color='red')\n",
    "plt.scatter(grid[decisions==1, 0], grid[decisions==1, 1], color='green')\n",
    "plt.scatter(grid[decisions==2, 0], grid[decisions==2, 1], color='blue')\n",
    "plt.legend((\"setosa\",\"versicolor\",\"virginica\"))\n",
    "plt.xlabel('petal_length')\n",
    "plt.ylabel('petal_width')\n",
    "plt.title('Classification Areas')\n",
    "\n",
    "plt.show()"
   ]
  },
  {
   "cell_type": "code",
   "execution_count": null,
   "metadata": {},
   "outputs": [],
   "source": []
  }
 ],
 "metadata": {
  "kernelspec": {
   "display_name": "Python 3",
   "language": "python",
   "name": "python3"
  },
  "language_info": {
   "codemirror_mode": {
    "name": "ipython",
    "version": 3
   },
   "file_extension": ".py",
   "mimetype": "text/x-python",
   "name": "python",
   "nbconvert_exporter": "python",
   "pygments_lexer": "ipython3",
   "version": "3.7.4"
  }
 },
 "nbformat": 4,
 "nbformat_minor": 4
}
