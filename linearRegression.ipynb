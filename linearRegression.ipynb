{
 "cells": [
  {
   "cell_type": "markdown",
   "metadata": {},
   "source": [
    "# An example of one-variable linear regression\n",
    "Code by [karbon](https://github.com/csy-tvgo)\n",
    "\n",
    "Dataset from [Machine Learning](https://www.coursera.org/learn/machine-learning) exercise 1 by Andrew Ng.\n",
    "\n",
    "## Import packages"
   ]
  },
  {
   "cell_type": "code",
   "execution_count": 1,
   "metadata": {},
   "outputs": [],
   "source": [
    "%matplotlib inline\n",
    "import numpy as np\n",
    "import csv\n",
    "import matplotlib.pyplot as plt\n",
    "import random"
   ]
  },
  {
   "cell_type": "markdown",
   "metadata": {},
   "source": [
    "## Load trainset from csv file"
   ]
  },
  {
   "cell_type": "code",
   "execution_count": 2,
   "metadata": {},
   "outputs": [],
   "source": [
    "# Declare lists for storing trainset of population and profit\n",
    "population = np.array([])\n",
    "profit = np.array([])\n",
    "\n",
    "# Load trainset from csv file\n",
    "reader = csv.reader(open('D:\\\\升学\\\\机器学习\\\\Brief Introduction to AI\\\\Brief Introduction to AI\\\\code\\\\dataForCEO.csv','r'))\n",
    "for row in reader:\n",
    "    population = np.append(population, float(row[0]))\n",
    "    profit = np.append(profit, float(row[1]))"
   ]
  },
  {
   "cell_type": "code",
   "execution_count": 3,
   "metadata": {},
   "outputs": [
    {
     "name": "stdout",
     "output_type": "stream",
     "text": [
      "[ 6.1101  5.5277  8.5186  7.0032  5.8598  8.3829  7.4764  8.5781  6.4862\n",
      "  5.0546  5.7107 14.164   5.734   8.4084  5.6407  5.3794  6.3654  5.1301\n",
      "  6.4296  7.0708  6.1891 20.27    5.4901  6.3261  5.5649 18.945  12.828\n",
      " 10.957  13.176  22.203   5.2524  6.5894  9.2482  5.8918  8.2111  7.9334\n",
      "  8.0959  5.6063 12.836   6.3534  5.4069  6.8825 11.708   5.7737  7.8247\n",
      "  7.0931  5.0702  5.8014 11.7     5.5416  7.5402  5.3077  7.4239  7.6031\n",
      "  6.3328  6.3589  6.2742  5.6397  9.3102  9.4536  8.8254  5.1793 21.279\n",
      " 14.908  18.959   7.2182  8.2951 10.236   5.4994 20.341  10.136   7.3345\n",
      "  6.0062  7.2259  5.0269  6.5479  7.5386  5.0365 10.274   5.1077  5.7292\n",
      "  5.1884  6.3557  9.7687  6.5159  8.5172  9.1802  6.002   5.5204  5.0594\n",
      "  5.7077  7.6366  5.8707  5.3054  8.2934 13.394   5.4369]\n",
      "[17.592    9.1302  13.662   11.854    6.8233  11.886    4.3483  12.\n",
      "  6.5987   3.8166   3.2522  15.505    3.1551   7.2258   0.71618  3.5129\n",
      "  5.3048   0.56077  3.6518   5.3893   3.1386  21.767    4.263    5.1875\n",
      "  3.0825  22.638   13.501    7.0467  14.692   24.147   -1.22     5.9966\n",
      " 12.134    1.8495   6.5426   4.5623   4.1164   3.3928  10.117    5.4974\n",
      "  0.55657  3.9115   5.3854   2.4406   6.7318   1.0463   5.1337   1.844\n",
      "  8.0043   1.0179   6.7504   1.8396   4.2885   4.9981   1.4233  -1.4211\n",
      "  2.4756   4.6042   3.9624   5.4141   5.1694  -0.74279 17.929   12.054\n",
      " 17.054    4.8852   5.7442   7.7754   1.0173  20.992    6.6799   4.0259\n",
      "  1.2784   3.3411  -2.6807   0.29678  3.8845   5.7014   6.7526   2.0576\n",
      "  0.47953  0.20421  0.67861  7.5435   5.3436   4.2415   6.7981   0.92695\n",
      "  0.152    2.8214   1.8451   4.2959   7.2029   1.9869   0.14454  9.0551\n",
      "  0.61705]\n"
     ]
    }
   ],
   "source": [
    "print(str(population))\n",
    "print(str(profit))"
   ]
  },
  {
   "cell_type": "markdown",
   "metadata": {},
   "source": [
    "## Plot trainset"
   ]
  },
  {
   "cell_type": "code",
   "execution_count": 4,
   "metadata": {},
   "outputs": [],
   "source": [
    "def plotData(x, y, t0=None, t1=None):\n",
    "    plt.figure(figsize=(6,4))\n",
    "    plt.scatter(x.tolist(), y.tolist(), marker='x') # maker: 散点的形状   x.tolist(): 将矩阵作为列表返回\n",
    "    if (t0 != None) and (t1 != None):\n",
    "        tempx = np.linspace(5, 22.5, 50)  # numpy.linspace(start,stop,num=50,endpoint=True,retstep=False,dtype=None) 在指定的间隔内返回均匀间隔的数字\n",
    "        tempy = t0 + tempx * t1\n",
    "        plt.plot(tempx, tempy, color='red', linestyle='--')\n",
    "    plt.xlabel('Population of City in 10000')\n",
    "    plt.ylabel('Profit in $10000')\n",
    "    plt.show()"
   ]
  },
  {
   "cell_type": "code",
   "execution_count": 5,
   "metadata": {},
   "outputs": [
    {
     "data": {
      "image/png": "[encoded data removed]",
      "text/plain": [
       "<Figure size 432x288 with 1 Axes>"
      ]
     },
     "metadata": {
      "needs_background": "light"
     },
     "output_type": "display_data"
    }
   ],
   "source": [
    "plotData(population, profit)"
   ]
  },
  {
   "cell_type": "markdown",
   "metadata": {},
   "source": [
    "## Model definiation of linear regression\n",
    "Our model of one-variable linear regression is \n",
    "$$ h(x)=\\theta_0 + \\theta_1 x $$"
   ]
  },
  {
   "cell_type": "code",
   "execution_count": 6,
   "metadata": {},
   "outputs": [],
   "source": [
    "def h(x, theta0, theta1):\n",
    "    return theta0 + theta1 * x"
   ]
  },
  {
   "cell_type": "markdown",
   "metadata": {},
   "source": [
    "Cost function is\n",
    "$$ J(\\theta_0 ,\\theta_1)=\\frac{1}{2m} \\sum^{m}_{i=1}{(h(x_i)-y_i)^2}  $$\n",
    "$$ =\\frac{1}{2m} \\sum^{m}_{i=1}{(\\theta_0+\\theta_1 x_i-y_i)^2}  $$\n"
   ]
  },
  {
   "cell_type": "code",
   "execution_count": 7,
   "metadata": {},
   "outputs": [],
   "source": [
    "def computeCost(x, y, theta0, theta1):\n",
    "    m = len(y)\n",
    "    J = 1/(2*m) * sum((h(x,theta0,theta1) - y) ** 2)\n",
    "    return J"
   ]
  },
  {
   "cell_type": "markdown",
   "metadata": {},
   "source": [
    "One iteration of gradient descent is"
   ]
  },
  {
   "cell_type": "code",
   "execution_count": 8,
   "metadata": {},
   "outputs": [],
   "source": [
    "def gradientDescent(x, y, theta0, theta1, alpha, iterTimes):\n",
    "    m = len(y)\n",
    "    temp0 = theta0 - alpha*(1/m) * sum((h(x, theta0, theta1) - y));  \n",
    "    temp1 = theta1 - alpha*(1/m) * sum((h(x, theta0, theta1) - y) * x);  \n",
    "    iterTimes = iterTimes + 1\n",
    "    return temp0, temp1, iterTimes"
   ]
  },
  {
   "cell_type": "markdown",
   "metadata": {},
   "source": [
    "## Model Fitting\n",
    "Initialize $\\theta_0,\\theta_1$ with random float from -10 to 10,\n",
    "\n",
    "Learning rate $\\alpha$ is set to 0.01"
   ]
  },
  {
   "cell_type": "code",
   "execution_count": 9,
   "metadata": {},
   "outputs": [],
   "source": [
    "theta0 = random.uniform(-10,10)\n",
    "theta1 = random.uniform(-10,10)\n",
    "alpha = 0.01\n",
    "iterTimes = 0 # times of iteration"
   ]
  },
  {
   "cell_type": "markdown",
   "metadata": {},
   "source": [
    "See the initial model"
   ]
  },
  {
   "cell_type": "code",
   "execution_count": 10,
   "metadata": {},
   "outputs": [
    {
     "name": "stdout",
     "output_type": "stream",
     "text": [
      "After 0 iterations:\n",
      "h(x) = 4.325681 + 5.824204x\n",
      "Cost is 1221.922660 now.\n"
     ]
    },
    {
     "data": {
      "image/png": "[encoded data removed]",
      "text/plain": [
       "<Figure size 432x288 with 1 Axes>"
      ]
     },
     "metadata": {
      "needs_background": "light"
     },
     "output_type": "display_data"
    }
   ],
   "source": [
    "print(\"After %d iterations:\"%(iterTimes))\n",
    "print(\"h(x) = %f + %fx\"%((theta0, theta1)))  \n",
    "print(\"Cost is %f now.\"%(computeCost(population, profit, theta0, theta1)))\n",
    "plotData(population, profit, theta0, theta1)"
   ]
  },
  {
   "cell_type": "markdown",
   "metadata": {},
   "source": [
    "Start fitting.\n",
    "\n",
    "You can run the below cell repeatly to observe the process.\n",
    "\n",
    "One time of running means 10 iterations."
   ]
  },
  {
   "cell_type": "code",
   "execution_count": 62,
   "metadata": {},
   "outputs": [
    {
     "name": "stdout",
     "output_type": "stream",
     "text": [
      "After 2590 iterations:\n",
      "h(x) = -3.824025 + 1.185825x\n",
      "Cost is 4.477440 now.\n"
     ]
    },
    {
     "data": {
      "image/png": "[encoded data removed]",
      "text/plain": [
       "<Figure size 432x288 with 1 Axes>"
      ]
     },
     "metadata": {
      "needs_background": "light"
     },
     "output_type": "display_data"
    }
   ],
   "source": [
    "for i in range(1000):\n",
    "    theta0, theta1, iterTimes = gradientDescent(population, profit, theta0, theta1, alpha, iterTimes)\n",
    "print(\"After %d iterations:\"%(iterTimes))\n",
    "print(\"h(x) = %f + %fx\"%((theta0, theta1)))  \n",
    "print(\"Cost is %f now.\"%(computeCost(population, profit, theta0, theta1)))\n",
    "plotData(population, profit, theta0, theta1)"
   ]
  },
  {
   "cell_type": "markdown",
   "metadata": {},
   "source": [
    "### Dear CEO, after many times of iterations, you can estimate your profit in a new city through the red line in the figure above."
   ]
  },
  {
   "cell_type": "code",
   "execution_count": null,
   "metadata": {},
   "outputs": [],
   "source": []
  }
 ],
 "metadata": {
  "kernelspec": {
   "display_name": "Python 3",
   "language": "python",
   "name": "python3"
  },
  "language_info": {
   "codemirror_mode": {
    "name": "ipython",
    "version": 3
   },
   "file_extension": ".py",
   "mimetype": "text/x-python",
   "name": "python",
   "nbconvert_exporter": "python",
   "pygments_lexer": "ipython3",
   "version": "3.7.4"
  }
 },
 "nbformat": 4,
 "nbformat_minor": 2
}
